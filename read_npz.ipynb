{
 "cells": [
  {
   "cell_type": "code",
   "execution_count": 15,
   "metadata": {},
   "outputs": [],
   "source": [
    "import numpy as np\n"
   ]
  },
  {
   "cell_type": "code",
   "execution_count": 21,
   "metadata": {},
   "outputs": [],
   "source": [
    "# Load the .npz file\n",
    "folder = \"/home/olagh/Desktop/gripper_fixed_trial_demo_20250124_165300\"\n",
    "joint_states = np.load(folder + \"/testing_demo_joint_states.npz\")\n",
    "gripper_states = np.load(folder + \"/testing_demo_gripper_states.npz\")\n",
    "camera_frontleft_fisheye_image = np.load(folder + \"/testing_demo_camera_frontleft_fisheye_image.npz\", allow_pickle=True)\n",
    "camera_frontright_fisheye_image = np.load(folder + \"/testing_demo_camera_frontright_fisheye_image.npz\", allow_pickle=True)\n",
    "camera_hand_color_image = np.load(folder + \"/testing_demo_camera_hand_color_image.npz\", allow_pickle=True)\n",
    "action = np.load(folder + \"/testing_demo_action.npz\")"
   ]
  },
  {
   "cell_type": "code",
   "execution_count": 13,
   "metadata": {},
   "outputs": [
    {
     "name": "stdout",
     "output_type": "stream",
     "text": [
      "Keys in joint_states .npz file: ['data']\n",
      "Keys in  gripper_states.npz file: ['data']\n",
      "Keys in camera_frontleft_fisheye_image .npz file: ['data']\n",
      "Keys in camera_frontright_fisheye_image .npz file: ['data']\n",
      "Keys in camera_hand_color_image .npz file: ['data']\n",
      "Keys in action .npz file: ['data']\n"
     ]
    }
   ],
   "source": [
    "# Inspect the keys (array names) stored in the .npz file\n",
    "print(\"Keys in joint_states .npz file:\", joint_states.files)\n",
    "print(\"Keys in  gripper_states.npz file:\", gripper_states.files)\n",
    "print(\"Keys in camera_frontleft_fisheye_image .npz file:\", camera_frontleft_fisheye_image.files)\n",
    "print(\"Keys in camera_frontright_fisheye_image .npz file:\", camera_frontright_fisheye_image.files)\n",
    "print(\"Keys in camera_hand_color_image .npz file:\", camera_hand_color_image.files)\n",
    "print(\"Keys in action .npz file:\", action.files)"
   ]
  },
  {
   "cell_type": "code",
   "execution_count": 18,
   "metadata": {},
   "outputs": [
    {
     "name": "stdout",
     "output_type": "stream",
     "text": [
      "Array 1: 19\n",
      "Array 1: [ 9.56230331e-03  6.61959708e-01 -1.55655301e+00 -8.82411655e-03\n",
      "  6.64608240e-01 -1.56354868e+00 -2.59193871e-03  7.00358272e-01\n",
      " -1.59008443e+00 -4.04438144e-03  6.63883746e-01 -1.56910574e+00\n",
      "  1.83105469e-04 -8.97506475e-01  1.79789841e+00  2.68721581e-03\n",
      " -8.96482587e-01 -2.57968903e-03 -3.24436426e-02]\n",
      "Array 1: 0.00018310546875\n",
      "Array 1: -0.8975064754486084\n",
      "Array 1: 1.7978984117507935\n"
     ]
    }
   ],
   "source": [
    "array1 = joint_states[\"data\"]\n",
    "\n",
    "print(\"Array 1:\", len(array1[0]))\n",
    "print(\"Array 1:\", array1[0])\n",
    "print(\"Array 1:\", array1[0][12])\n",
    "print(\"Array 1:\", array1[0][13])\n",
    "print(\"Array 1:\", array1[0][14])\n",
    "\n",
    "# fl.hx 0\n",
    "# fl.hy 1\n",
    "# fl.kn 2\n",
    "# fr.hx 3\n",
    "# fr.hy 4 \n",
    "# fr.kn 5\n",
    "# hl.hx 6\n",
    "# hl.hy 7\n",
    "# hl.kn 8\n",
    "# hr.hx 9 \n",
    "# hr.hy 10\n",
    "# hr.kn 11 \n",
    "# arm0.sh0 12\n",
    "# arm0.sh1 13\n",
    "# arm0.el0 14\n",
    "# arm0.el1 15\n",
    "# arm0.wr0 16\n",
    "# arm0.wr1 17\n",
    "# arm0.f1x 18"
   ]
  },
  {
   "cell_type": "code",
   "execution_count": 22,
   "metadata": {},
   "outputs": [
    {
     "name": "stdout",
     "output_type": "stream",
     "text": [
      "[0 0 0 0 0 0 0 0 0 0 0 0 0 0 0 0 0 0 0 0 0 0 0 0 0 0 0 0 0 0 0 0 0 0 0 0 0\n",
      " 0 0 0 0 0 0 0 0 0 0 0 0 0 0 0 0 0 0 0 0 0 0 0 0 0 0 0 0 0 0 0 0 0 0 0 0 0\n",
      " 0 0 0 0 0 0 0 0 0 0 0 0 0 0 0 0 0 0 0 0 0 0 0 0 0 0 0 0 0 0 0 0 0 0 0 0 0\n",
      " 0 0 0 0 0 0 0 0 0 0 0 0 0 0 0 0 0 0 0 0 0 0 0 0 0 0 0 0 0 0 0 0 0 0 0 0 0\n",
      " 0 0 0 0 0 0 0 0 0 0 0 0 0 0 0 0 0 0 0 0 0 0 0 0 0 0 0 0 0 0 0 0 0 0 0 0 0\n",
      " 0 0 0 0 0 0 0 0 0 0 0 0 0 0 0 0 0 0 0 0 0 0 0 0 0 0 0 0 0 0 0 0 0 0 0 0 0\n",
      " 0 0 0 0 0 0 0 0 0 0 0 0 0 0 0 0 0 0 0 0 0 0 0 0 0 0 0 0 0 0 0 0 0 0 0 0 0\n",
      " 0 0 0 0 0 0 0 0 0 0 0 0 0 0 0 0 0 0 0 0 0 0 0 0 0 0 0 0 0 0 0 0 0 0 0 0 0\n",
      " 0 0 0 0 0 0 0 0 0 0 0 0 0 0 0 0 0 0 0 0 0 0 0 0 0 0 0 0 0 0 0 0 0 0 0 0 0\n",
      " 0 0 0 0 0 0 0 0 0 0 0 0 0 0 0 0 0 0 0 0 0 0 0 0 0 0 0 0 0 0 0 0 0 0 0 0 0\n",
      " 0 0 0 0 0 0 0 0 0 0 0 0 0 0 0 0 0 0 0 0 0 0 0 0 0 0 0 0 0 0 0 0 0 0 0 0 0\n",
      " 0 0 0 0 0 0 0 0 0 0 0 0 0 0 0 0 0 0 0 0 0 0 0 0 0 0 0 0 0 0 0 0 0 0 0 0 0\n",
      " 0 0 0 0 0 0 0 0 0 0 0 0 0 0 1 1 1 1 1 1 1 1 1 1 1 1 1 1 1 1 1 1 1 1 1 1 1\n",
      " 1 1 1 1 1 1 1 1 1 1 1 1 1 1 1 1 1 1 1 1 1 1 1 1 1 1 1 1 1 1 1 1 1 1 1 1 1\n",
      " 1 1 1 1 1 1 1 1 1 1 1 1 1 1 1 1 1 1 1 1 1 1 1 1 1 1 1 1 1 1 1 1 1 1 1 1 1\n",
      " 1 1 1 1 1 1 1 1 1 1 1 1 1 1 1 1 1 1 1 1 1 1 1 1 1 1 1 1 1 1 1 1 1 1 1 1 1\n",
      " 1 1 1 1 1 1 1 1 1 1 1 1 1 1 1 1 1 1 1 1 1 1 1 1 1 1 1 1 1 1 1 1 1 1 1 1 1\n",
      " 1 1 1 1 1 1 1 1 1 1 1 1 1 1 1 1 1 1 1 1 1 1 0 0 0 0 0 0 0 0 0 0 0 0 0 0 0\n",
      " 0 0 0 0 0 0 0 0 0 0 0 0 0 0 0 0 0 0 0 0 0 0 0 0 0 0 0 0 0 0 0 0 0 0 0 0 0\n",
      " 0 0 0 0 0 0 0 0 0 0 0 0 0 0 0 0 0 0 0 0 0 0 0 0 0 0 0 0 0 0 0 0 0 0 0 0 0\n",
      " 0 0 0 0 0 0 0 0 0 0 0 0 0 0 0 0 0 0 0 0 0 0 0 0 0 0 0 0 0 0 0 0 0 0 0 0 0\n",
      " 0 0 0 0 0 0 0 0 0 0 0 0 0 0 0 0 0 0 0 0 0 0 0 0 1 1 1 1 1 1 1 1 1 1 1 1 1\n",
      " 1 1 1 1 1 1 1 1 1 1 1 1 1 1 1 1 1 1 1 1 1 1 1 1 1 1 1 1 1 1 1 1 1 1 1 1 1\n",
      " 1 1 1 1 1 1 1 1 1 1 1 1 1 1 1 1 1 1 1 1 1 1 1 1 1 1 1 1 1 1 1 1 1 1 1 1 1\n",
      " 1 1 1 1 1 1 1 1 1 1 1 0 0 1 1 1 1 1 1 1 1 1 1 1 1 1 1 1 1 1 1 1 1 1 1 1 1\n",
      " 1 1 1 1 1 1 1 1 1 1 1 1 1 1 1 1 1 1 1 1 1 1 1 1 1 1 1 1 1 1 1 1 1 1]\n",
      "959\n"
     ]
    }
   ],
   "source": [
    "print(gripper_states[\"data\"])\n",
    "print(len(gripper_states[\"data\"]))"
   ]
  },
  {
   "cell_type": "code",
   "execution_count": 8,
   "metadata": {},
   "outputs": [
    {
     "name": "stdout",
     "output_type": "stream",
     "text": [
      "1241\n",
      "1241\n"
     ]
    }
   ],
   "source": [
    "print(len(action[\"data\"]))\n",
    "print(len(gripper_states[\"data\"]))"
   ]
  },
  {
   "cell_type": "code",
   "execution_count": 9,
   "metadata": {},
   "outputs": [
    {
     "name": "stdout",
     "output_type": "stream",
     "text": [
      "[0 0 0 ... 1 1 1]\n"
     ]
    }
   ],
   "source": [
    "print(gripper_states[\"data\"])"
   ]
  },
  {
   "cell_type": "code",
   "execution_count": 7,
   "metadata": {},
   "outputs": [
    {
     "name": "stdout",
     "output_type": "stream",
     "text": [
      "Array 1: [0. 0. 0. 0. 0. 0. 0. 0. 0.]\n",
      "0.0 0.0 0.0 0.0 0.0 0.0 0.0 0.0 0.0\n",
      "0.0\n",
      "Array 1: [0. 0. 0. 0. 0. 0. 0. 0. 0.]\n",
      "0.0 0.0 0.0 0.0 0.0 0.0 0.0 0.0 0.0\n",
      "0.0\n",
      "Array 1: [0. 0. 0. 0. 0. 0. 0. 0. 0.]\n",
      "0.0 0.0 0.0 0.0 0.0 0.0 0.0 0.0 0.0\n",
      "0.0\n",
      "Array 1: [0. 0. 0. 0. 0. 0. 0. 0. 0.]\n",
      "0.0 0.0 0.0 0.0 0.0 0.0 0.0 0.0 0.0\n",
      "0.0\n",
      "Array 1: [0. 0. 0. 0. 0. 0. 0. 0. 0.]\n",
      "0.0 0.0 0.0 0.0 0.0 0.0 0.0 0.0 0.0\n",
      "0.0\n"
     ]
    }
   ],
   "source": [
    "array1 = action[\"data\"]\n",
    "for i in range(5):\n",
    "    v_x_, v_y_, v_rot_, v_r_, v_theta_, v_z_, v_rx_, v_ry_, v_rz_ = array1[i]\n",
    "    print(\"Array 1:\", array1[i])\n",
    "    print(v_x_, v_y_, v_rot_, v_r_, v_theta_, v_z_, v_rx_, v_ry_, v_rz_)\n",
    "    print(v_x_)\n",
    "# for action_ in array1:\n",
    "#     print(\"Array 1:\",action_)\n",
    "#     print(\"0\", action_[0])\n",
    "#     print(\"1\", action_[1])\n",
    "#     print(\"2\", action_[2])"
   ]
  },
  {
   "cell_type": "code",
   "execution_count": 6,
   "metadata": {},
   "outputs": [
    {
     "name": "stdout",
     "output_type": "stream",
     "text": [
      "Array 1: <class 'numpy.ndarray'>\n",
      "object\n"
     ]
    }
   ],
   "source": [
    "camera_frontleft_fisheye_image = camera_frontleft_fisheye_image[\"data\"]\n",
    "print(\"Array 1:\", type(camera_frontleft_fisheye_image))\n",
    "print(camera_frontleft_fisheye_image.dtype)"
   ]
  },
  {
   "cell_type": "code",
   "execution_count": 7,
   "metadata": {},
   "outputs": [],
   "source": [
    "from PIL import Image\n",
    "import io\n",
    "import time\n",
    "# for i in range(len(camera_frontleft_fisheye_image)):\n",
    "#     image = camera_frontleft_fisheye_image[i]\n",
    "#     image = Image.open(io.BytesIO(image.data))\n",
    "#     # image.show()\n",
    "#     # time.sleep(display_time)\n",
    "#     image.save(folder + f\"/images/olfat{i}.png\")"
   ]
  },
  {
   "cell_type": "code",
   "execution_count": 10,
   "metadata": {},
   "outputs": [],
   "source": [
    "camera_hand_color_image = camera_hand_color_image[\"data\"]\n",
    "for i in range(len(camera_hand_color_image)):\n",
    "    image = camera_hand_color_image[i]\n",
    "    image = Image.open(io.BytesIO(image.data))\n",
    "    # image.show()\n",
    "    # time.sleep(display_time)\n",
    "    image.save(folder + f\"/images_hand/olfat{i}.png\")"
   ]
  }
 ],
 "metadata": {
  "kernelspec": {
   "display_name": "Python 3",
   "language": "python",
   "name": "python3"
  },
  "language_info": {
   "codemirror_mode": {
    "name": "ipython",
    "version": 3
   },
   "file_extension": ".py",
   "mimetype": "text/x-python",
   "name": "python",
   "nbconvert_exporter": "python",
   "pygments_lexer": "ipython3",
   "version": "3.10.12"
  }
 },
 "nbformat": 4,
 "nbformat_minor": 2
}
