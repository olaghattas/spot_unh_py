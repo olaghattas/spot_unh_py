{
 "cells": [
  {
   "cell_type": "code",
   "execution_count": 2,
   "metadata": {},
   "outputs": [],
   "source": [
    "import numpy as np\n"
   ]
  },
  {
   "cell_type": "code",
   "execution_count": 3,
   "metadata": {},
   "outputs": [],
   "source": [
    "# Load the .npz file\n",
    "folder = \"/home/olagh/Desktop/trial_demo_controlled\"\n",
    "joint_states = np.load(folder + \"/testing_demo_joint_states.npz\")\n",
    "gripper_states = np.load(folder + \"/testing_demo_gripper_states.npz\")\n",
    "camera_frontleft_fisheye_image = np.load(folder + \"/testing_demo_camera_frontleft_fisheye_image.npz\", allow_pickle=True)\n",
    "camera_frontright_fisheye_image = np.load(folder + \"/testing_demo_camera_frontright_fisheye_image.npz\", allow_pickle=True)\n",
    "camera_hand_color_image = np.load(folder + \"/testing_demo_camera_hand_color_image.npz\", allow_pickle=True)\n",
    "action = np.load(folder + \"/testing_demo_action.npz\")"
   ]
  },
  {
   "cell_type": "code",
   "execution_count": 3,
   "metadata": {},
   "outputs": [
    {
     "name": "stdout",
     "output_type": "stream",
     "text": [
      "Keys in joint_states .npz file: ['data']\n",
      "Keys in  gripper_states.npz file: ['data']\n",
      "Keys in camera_frontleft_fisheye_image .npz file: ['data']\n",
      "Keys in camera_frontright_fisheye_image .npz file: ['data']\n",
      "Keys in camera_hand_color_image .npz file: ['data']\n",
      "Keys in action .npz file: ['data']\n"
     ]
    }
   ],
   "source": [
    "# Inspect the keys (array names) stored in the .npz file\n",
    "print(\"Keys in joint_states .npz file:\", joint_states.files)\n",
    "print(\"Keys in  gripper_states.npz file:\", gripper_states.files)\n",
    "print(\"Keys in camera_frontleft_fisheye_image .npz file:\", camera_frontleft_fisheye_image.files)\n",
    "print(\"Keys in camera_frontright_fisheye_image .npz file:\", camera_frontright_fisheye_image.files)\n",
    "print(\"Keys in camera_hand_color_image .npz file:\", camera_hand_color_image.files)\n",
    "print(\"Keys in action .npz file:\", action.files)"
   ]
  },
  {
   "cell_type": "code",
   "execution_count": 4,
   "metadata": {},
   "outputs": [
    {
     "name": "stdout",
     "output_type": "stream",
     "text": [
      "Array 1: 1241\n",
      "Array 1: [-0.03465924  0.71200204 -1.67289567 -0.04801967  0.67901284 -1.63304114\n",
      " -0.03774499  0.70007104 -1.68985701 -0.0438021   0.70110601 -1.66736031\n",
      " -0.2925787  -0.01799726  0.8856833  -0.35481262  0.34066391  1.73177743\n",
      " -0.02004004]\n"
     ]
    }
   ],
   "source": [
    "array1 = joint_states[\"data\"]\n",
    "print(\"Array 1:\", len(array1))\n",
    "print(\"Array 1:\", array1[704])\n"
   ]
  },
  {
   "cell_type": "code",
   "execution_count": 8,
   "metadata": {},
   "outputs": [
    {
     "name": "stdout",
     "output_type": "stream",
     "text": [
      "1241\n",
      "1241\n"
     ]
    }
   ],
   "source": [
    "print(len(action[\"data\"]))\n",
    "print(len(gripper_states[\"data\"]))"
   ]
  },
  {
   "cell_type": "code",
   "execution_count": 9,
   "metadata": {},
   "outputs": [
    {
     "name": "stdout",
     "output_type": "stream",
     "text": [
      "[0 0 0 ... 1 1 1]\n"
     ]
    }
   ],
   "source": [
    "print(gripper_states[\"data\"])"
   ]
  },
  {
   "cell_type": "code",
   "execution_count": 7,
   "metadata": {},
   "outputs": [
    {
     "name": "stdout",
     "output_type": "stream",
     "text": [
      "Array 1: [0. 0. 0. 0. 0. 0. 0. 0. 0.]\n",
      "0.0 0.0 0.0 0.0 0.0 0.0 0.0 0.0 0.0\n",
      "0.0\n",
      "Array 1: [0. 0. 0. 0. 0. 0. 0. 0. 0.]\n",
      "0.0 0.0 0.0 0.0 0.0 0.0 0.0 0.0 0.0\n",
      "0.0\n",
      "Array 1: [0. 0. 0. 0. 0. 0. 0. 0. 0.]\n",
      "0.0 0.0 0.0 0.0 0.0 0.0 0.0 0.0 0.0\n",
      "0.0\n",
      "Array 1: [0. 0. 0. 0. 0. 0. 0. 0. 0.]\n",
      "0.0 0.0 0.0 0.0 0.0 0.0 0.0 0.0 0.0\n",
      "0.0\n",
      "Array 1: [0. 0. 0. 0. 0. 0. 0. 0. 0.]\n",
      "0.0 0.0 0.0 0.0 0.0 0.0 0.0 0.0 0.0\n",
      "0.0\n"
     ]
    }
   ],
   "source": [
    "array1 = action[\"data\"]\n",
    "for i in range(5):\n",
    "    v_x_, v_y_, v_rot_, v_r_, v_theta_, v_z_, v_rx_, v_ry_, v_rz_ = array1[i]\n",
    "    print(\"Array 1:\", array1[i])\n",
    "    print(v_x_, v_y_, v_rot_, v_r_, v_theta_, v_z_, v_rx_, v_ry_, v_rz_)\n",
    "    print(v_x_)\n",
    "# for action_ in array1:\n",
    "#     print(\"Array 1:\",action_)\n",
    "#     print(\"0\", action_[0])\n",
    "#     print(\"1\", action_[1])\n",
    "#     print(\"2\", action_[2])"
   ]
  },
  {
   "cell_type": "code",
   "execution_count": 6,
   "metadata": {},
   "outputs": [
    {
     "name": "stdout",
     "output_type": "stream",
     "text": [
      "Array 1: <class 'numpy.ndarray'>\n",
      "object\n"
     ]
    }
   ],
   "source": [
    "camera_frontleft_fisheye_image = camera_frontleft_fisheye_image[\"data\"]\n",
    "print(\"Array 1:\", type(camera_frontleft_fisheye_image))\n",
    "print(camera_frontleft_fisheye_image.dtype)"
   ]
  },
  {
   "cell_type": "code",
   "execution_count": 7,
   "metadata": {},
   "outputs": [],
   "source": [
    "from PIL import Image\n",
    "import io\n",
    "import time\n",
    "# for i in range(len(camera_frontleft_fisheye_image)):\n",
    "#     image = camera_frontleft_fisheye_image[i]\n",
    "#     image = Image.open(io.BytesIO(image.data))\n",
    "#     # image.show()\n",
    "#     # time.sleep(display_time)\n",
    "#     image.save(folder + f\"/images/olfat{i}.png\")"
   ]
  },
  {
   "cell_type": "code",
   "execution_count": 10,
   "metadata": {},
   "outputs": [],
   "source": [
    "camera_hand_color_image = camera_hand_color_image[\"data\"]\n",
    "for i in range(len(camera_hand_color_image)):\n",
    "    image = camera_hand_color_image[i]\n",
    "    image = Image.open(io.BytesIO(image.data))\n",
    "    # image.show()\n",
    "    # time.sleep(display_time)\n",
    "    image.save(folder + f\"/images_hand/olfat{i}.png\")"
   ]
  }
 ],
 "metadata": {
  "kernelspec": {
   "display_name": "Python 3",
   "language": "python",
   "name": "python3"
  },
  "language_info": {
   "codemirror_mode": {
    "name": "ipython",
    "version": 3
   },
   "file_extension": ".py",
   "mimetype": "text/x-python",
   "name": "python",
   "nbconvert_exporter": "python",
   "pygments_lexer": "ipython3",
   "version": "3.10.12"
  }
 },
 "nbformat": 4,
 "nbformat_minor": 2
}
